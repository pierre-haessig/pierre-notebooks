{
 "cells": [
  {
   "cell_type": "markdown",
   "id": "60862f4a-5667-488d-aa0b-e40903da1b9b",
   "metadata": {},
   "source": [
    "# Frequency regulation — Simulating the swing equation and the effect of primary reserve (FCR)\n",
    "\n",
    "This notebook contains a **temporal simulation of grid frequency**, assuming a simple swing equation,\n",
    "at the time of **power imbalance** event (electric power consumption ≠ injection, e.g. when loosing one large generation unit).\n",
    "This triggers **primary frequency regulation** (also called FCR: Frequency Containment Reserve) to stabilize the grid.\n",
    "\n",
    "This model can show:\n",
    "- effect of the absence of primary frequency regulation → grid blackout (or over-frequency)\n",
    "- effect of main parameters: imbalance intensity, grid inertia, regulation gain\n",
    "- effect of imperfect regulation (lag in the regulation) → oscillations\n",
    "\n",
    "Left to be done:\n",
    "- add a nice illustration of swing equation with frequency regulation feedback\n",
    "- allow the perturbation to be transient (door shaped)\n",
    "- have a \"hidden code\" version of this notebook\n",
    "\n",
    "Pierre Haessig, september 2023, CC-BY"
   ]
  },
  {
   "cell_type": "code",
   "execution_count": 1,
   "id": "a496eeed-47a6-43e2-bece-d79b5a8590e0",
   "metadata": {},
   "outputs": [],
   "source": [
    "import numpy as np\n",
    "from numpy import pi\n",
    "from scipy.integrate import solve_ivp\n",
    "from matplotlib import pyplot as plt\n",
    "\n",
    "from ipywidgets import interact"
   ]
  },
  {
   "cell_type": "markdown",
   "id": "c6e29731-0850-43ab-a5c4-17ad6a1878c8",
   "metadata": {},
   "source": [
    "## Preamble: models and formulas used\n",
    "\n",
    "### Swing equation\n",
    "\n",
    "From the law of motion:\n",
    "$$ J \\Omega \\frac{d\\Omega}{dt} = P_{mech} - P_{elec} $$\n",
    "\n",
    "then introducing the inertia “constant”\n",
    "$$ H = \\frac{J \\Omega^2}{2 S_{tot}} $$\n",
    "\n",
    "yields the normalized swing equation\n",
    "\n",
    "$$2H \\frac{1}{Ω}\\frac{dΩ}{dt} = + \\frac{ΔP}{S_{tot}}$$\n",
    "\n",
    "where $ΔP = P_{mech} - P_{elec} $ is an excess of mechanical power of the shaft.\n",
    "\n",
    "Initial RoCoF (from normalized swing equation):\n",
    "\n",
    "$$\\frac{df}{dt} = +\\frac{f_0}{2H}\\frac{ΔP}{S_{tot}}$$"
   ]
  },
  {
   "cell_type": "markdown",
   "id": "fd550f3b-341c-4afd-bf71-6341eb020c42",
   "metadata": {},
   "source": [
    "### Primary reserve (FCR)\n",
    "\n",
    "FCR: Frequency Containment Reserve\n",
    "\n",
    "Feedback law:\n",
    "$$\\Delta P_{FCR} = -K.\\Delta f$$\n",
    "\n",
    "with $\\Delta f = f - f_0$ and $K$ the FCR feedback gain.\n",
    "\n",
    "Also, in steady state, for a constant excess of electric load $P_{load}$, the final value of the frequency (once FCR is fully deployed) comes from the inversion of the gain formula:\n",
    "\n",
    "$$\\Delta f_{final} = -\\Delta P_{load}/K$$\n",
    "\n",
    "\n",
    "Often, the FCR gain is expressed as an inverse normalized FCR gain (smaller is stronger):\n",
    "$$s = P_{rated}/(K.f_0)$$\n",
    "\n",
    "This yields the FCR gain (larger is stronger):\n",
    "$$K = P_{rated}/(s.f_0) \\;\\text{ in MW/Hz} $$"
   ]
  },
  {
   "cell_type": "markdown",
   "id": "f5043ef8-3768-4d49-b7da-2e15cfbfb142",
   "metadata": {},
   "source": [
    "## Simulation code"
   ]
  },
  {
   "cell_type": "markdown",
   "id": "63716cd4-fe25-41f2-96ff-254a4759a4df",
   "metadata": {},
   "source": [
    "Constants"
   ]
  },
  {
   "cell_type": "code",
   "execution_count": 2,
   "id": "fcde18a6-1326-4dec-a8ce-521e6ed7462f",
   "metadata": {},
   "outputs": [],
   "source": [
    "# Base frequency\n",
    "f0 = 50 # Hz\n",
    "Ω0 = 2*pi*f0\n",
    "\n",
    "# Simulation duration: initial and final time\n",
    "t_ini=-1 # s\n",
    "t_fin=10 # s"
   ]
  },
  {
   "cell_type": "markdown",
   "id": "200f0206-c76b-402d-9b1b-2399625a05b6",
   "metadata": {},
   "source": [
    "### Simulation function"
   ]
  },
  {
   "cell_type": "code",
   "execution_count": 3,
   "id": "276bc513-b121-4396-bab9-db31679febc2",
   "metadata": {},
   "outputs": [
    {
     "data": {
      "text/plain": [
       "(49.750042468601436, 49.75, 0.09932313072993189)"
      ]
     },
     "execution_count": 3,
     "metadata": {},
     "output_type": "execute_result"
    }
   ],
   "source": [
    "def sim_freq_response(ΔP_load, H, s, τ_fcr, fcr, fcr_lag):\n",
    "    \"\"\"\n",
    "    Simulate frequency response from FCR\n",
    "\n",
    "    Parameters:\n",
    "    ΔP_load: excess of consumption (in per-unit)\n",
    "    H: inertia constant (s) >0\n",
    "    s: FCR regulation inverse gain  (a few %) > 0\n",
    "    τ_fcr: FCR first order time constant (s) > 0\n",
    "\n",
    "    Booleans:\n",
    "    fcr: activation of FCR, True of False\n",
    "    fcr_lag: activation of FCR response lag, True or False\n",
    "\n",
    "    Returns t, f, P_fcr, f_lim\n",
    "    \"\"\"\n",
    "    # Constants and parameters\n",
    "    Sg = 1 # so that ΔP is in pu\n",
    "    J = 2*H*Sg/Ω0**2\n",
    "    \n",
    "    if fcr:\n",
    "        K = Sg/(f0*s)\n",
    "        f_lim = f0 - ΔP_load/K\n",
    "    else:\n",
    "        K = 0.0\n",
    "        f_lim = 0 # 0 Hz = blackout\n",
    "    \n",
    "    def fder(t, x):\n",
    "        \"\"\"ODE dynamics for grid with optional frequency regulation\n",
    "        \"\"\"\n",
    "        f = x[0]\n",
    "        Δf = f-f0\n",
    "        Ω = 2*pi*f\n",
    "        \n",
    "        if fcr_lag:\n",
    "            P_fcr = x[1]\n",
    "            # first order filter of FCR power\n",
    "            P_fcr_dot = (-K*Δf - P_fcr)/τ_fcr\n",
    "        else:\n",
    "            P_fcr = -K*Δf\n",
    "    \n",
    "        P_load = 0 if t<0 else ΔP_load # excess of electric load with respect of mechanical power\n",
    "        ΔP = -P_load + P_fcr\n",
    "\n",
    "        # Swing equation:\n",
    "        Ω_dot = ΔP/(J*Ω)\n",
    "        f_dot = Ω_dot/(2*pi)\n",
    "\n",
    "        if fcr_lag:\n",
    "            x_dot = (f_dot, P_fcr_dot)\n",
    "        else:\n",
    "            x_dot = (f_dot,)\n",
    "        \n",
    "        return x_dot\n",
    "\n",
    "    # Initial conditions\n",
    "    f_ini = 50 # Hz\n",
    "    if fcr_lag:\n",
    "        P_fcr_ini = 0 # MW\n",
    "        x_ini = (f_ini, P_fcr_ini)\n",
    "    else:\n",
    "        x_ini = (f_ini,)\n",
    "\n",
    "    # Solve ODE:\n",
    "    sol = solve_ivp(fder, (t_ini, t_fin), x_ini,\n",
    "                    method='BDF', max_step=(t_fin-t_ini)/100, rtol=1e-4)\n",
    "    # Extract simulation output\n",
    "    f = sol.y[0]\n",
    "    if fcr_lag:\n",
    "        P_fcr =  sol.y[1]\n",
    "    else:\n",
    "        P_fcr = -K*(f-f0)\n",
    "    return sol.t, f, P_fcr, f_lim\n",
    "\n",
    "t, f, P_fcr, f_lim = sim_freq_response(ΔP_load=0.1, H=5, s=0.05, τ_fcr=1, fcr=True, fcr_lag=True)\n",
    "f[-1], f_lim, P_fcr[-1] "
   ]
  },
  {
   "cell_type": "markdown",
   "id": "a2c92154-2a13-45f3-82db-147d2794774c",
   "metadata": {},
   "source": [
    "### Helper"
   ]
  },
  {
   "cell_type": "code",
   "execution_count": 5,
   "id": "a3218cd7-70ae-43dc-ab75-bafed639eb92",
   "metadata": {},
   "outputs": [
    {
     "data": {
      "text/plain": [
       "((1, 49.0), (None, None), (None, None), (None, None))"
      ]
     },
     "execution_count": 5,
     "metadata": {},
     "output_type": "execute_result"
    }
   ],
   "source": [
    "def find_nadir(f):\n",
    "    \"\"\"find the frequency nadir in the vector `f`\n",
    "    Returns (i_nadir, f_nadir) which are (None, None) if no nadir is found\n",
    "    \"\"\"\n",
    "    i_min = np.argmin(f)\n",
    "\n",
    "    if i_min < (len(f)-1) and i_min>0 and f[i_min]<=f[-1]-0.001:\n",
    "        i_nadir = i_min\n",
    "        f_nadir = f[i_min]\n",
    "    else:\n",
    "        i_nadir = None\n",
    "        f_nadir = None\n",
    "    \n",
    "    return i_nadir, f_nadir\n",
    "\n",
    "find_nadir([50.0, 49.0, 49.5, 49.7]), find_nadir([50, 49, 48, 47]), find_nadir([50, 50, 50]), find_nadir([50, 49, 49.0001])"
   ]
  },
  {
   "cell_type": "markdown",
   "id": "ad3af650-45f6-4b84-b726-9bb776099395",
   "metadata": {},
   "source": [
    "### Plot function"
   ]
  },
  {
   "cell_type": "code",
   "execution_count": 6,
   "id": "ca322fcd-2a2b-4479-ada5-d16d84d94167",
   "metadata": {},
   "outputs": [
    {
     "data": {
      "image/png": "[encoded data removed]",
      "text/plain": [
       "<Figure size 640x480 with 2 Axes>"
      ]
     },
     "metadata": {},
     "output_type": "display_data"
    }
   ],
   "source": [
    "def plot_freq_response(t, f, P_fcr, f_lim,\n",
    "                       ΔP_load, H, s, τ_fcr, fcr, fcr_lag,\n",
    "                       f_min=None, P_max=None):\n",
    "    \"\"\"Plot frequency response.\n",
    "\n",
    "    Parameters:\n",
    "    - Simulation solution should be passed as t, f, P_fcr, f_lim (output of `sim_freq_response`)\n",
    "    - Simulation parameters should be passed as ΔP_load, H, s, τ_fcr, fcr, fcr_lag (params of `sim_freq_response`)\n",
    "    - vertical axis limits can be can be optionally forced with `f_min` and `P_max`.\n",
    "\n",
    "    Returns fig, (ax1, ax2)\n",
    "    \"\"\"\n",
    "    margin = 0.05 # margins for min and max values of axis limits\n",
    "\n",
    "    P_load = np.where(t<0, 0, ΔP_load)\n",
    "    \n",
    "    fig, (ax1, ax2) = plt.subplots(2,1, sharex=True)\n",
    "    \n",
    "    ### 1) Frequency plot ######\n",
    "    title_f = f'Frequency response (H={H:.0f} s)'\n",
    "    title_f += ' with FCR' if fcr else ' *without* FCR'\n",
    "    \n",
    "    if f_min is None:\n",
    "        f_min = np.min(f)\n",
    "\n",
    "    ax1.plot(t, f, '-')\n",
    "    ax1.axhline(f0, ls=':', color='k')\n",
    "\n",
    "    # Initial RoCoF linear trend:\n",
    "    RoCoF = -f0 /(2*H) * ΔP_load\n",
    "    RoCoF_label = f'RoCoF {RoCoF*1000:.0f} mHz/s'\n",
    "    ax1.axline((0, f0), slope=RoCoF, ls=':', label=RoCoF_label)\n",
    "\n",
    "    # Final frequency with FCR alone\n",
    "    if fcr:\n",
    "        ax1.plot((0, t_fin),(f_lim, f_lim), 'C0--', alpha=0.5, label=f'f final {f_lim:.2f} Hz')\n",
    "    \n",
    "    # Nadir:\n",
    "    i_nadir, f_nadir = find_nadir(f)\n",
    "    if i_nadir is not None:\n",
    "        t_nadir = t[i_nadir]\n",
    "        ax1.plot(t_nadir, f_nadir, 'D', color='tab:red', label='Nadir')\n",
    "\n",
    "    # 0 Hz limit\n",
    "    ax1.axhspan(-10, 0, color='black', alpha=0.7)\n",
    "\n",
    "    # Blackout\n",
    "    if f[-1] < f0*1e-3: # ~0 Hz\n",
    "        ax1.axvspan(t[-1], t_fin, color='tab:red', alpha=0.5, label='blackout')\n",
    "    \n",
    "    # Annotations, grid and legend\n",
    "    f_max = f0 if ΔP_load>=0 else f0+(f0-f_min) # show overspeed\n",
    "    δf = (f0 - f_min)*margin # freq axis margin\n",
    "    \n",
    "    ax1.set(\n",
    "        title=title_f,\n",
    "        ylabel='frequency (Hz)', \n",
    "        ylim=(f_min-δf, f_max+δf),\n",
    "        xlim=(t_ini, t_fin)\n",
    "    )\n",
    "    ax1.grid()\n",
    "    ax1.legend(loc='upper right')    \n",
    "    \n",
    "    \n",
    "    ### 2) Power plot ######\n",
    "    title_P = 'FCR power response'\n",
    "    if fcr:\n",
    "        title_P += f' (s={s:.0%})'\n",
    "        title_P += f' with lag τ={τ_fcr:.1f} s' if fcr_lag else ''\n",
    "    else:\n",
    "        title_P += ' (inactive)'\n",
    "\n",
    "    ax2.plot(t, P_load, 'k:', label='load excess')\n",
    "    ax2.plot(t, P_fcr, 'C2-', label='FCR')\n",
    "    if fcr_lag:\n",
    "        ax2.axvspan(0, τ_fcr, alpha=0.15, color='tab:red', label='lag τ')\n",
    "    \n",
    "\n",
    "    # Annotations, grid and legend\n",
    "    ax2.set(\n",
    "        title=title_P,\n",
    "        xlabel='time (s)',\n",
    "        ylabel='Power (pu)',\n",
    "    )\n",
    "    if P_max is not None:\n",
    "        δP = P_max*margin\n",
    "        P_min = 0 if ΔP_load>=0 else -P_max\n",
    "        ax2.set_ylim(P_min-δP, P_max+δP)\n",
    "    ax2.grid()\n",
    "    ax2.legend(loc='upper right') \n",
    "    \n",
    "    return fig, (ax1, ax2)\n",
    "\n",
    "sim_params = dict(ΔP_load=0.1, H=5, s=0.05, τ_fcr=1,\n",
    "              fcr=True, fcr_lag=True)\n",
    "\n",
    "t, f, P_fcr, f_lim = sim_freq_response(**sim_params)\n",
    "\n",
    "plot_freq_response(t, f, P_fcr, f_lim,\n",
    "                   **sim_params,\n",
    "                   P_max=0.15);"
   ]
  },
  {
   "cell_type": "markdown",
   "id": "1541e961-dc67-4d2e-8a2c-5e8f39f1bbbb",
   "metadata": {},
   "source": [
    "### Interactive plot function"
   ]
  },
  {
   "cell_type": "code",
   "execution_count": 7,
   "id": "1d9db121-fe1a-41ec-a0b7-5f9072b0494f",
   "metadata": {},
   "outputs": [],
   "source": [
    "def freq_response_interact(ΔP_load=0.1, H=1, s=0.10, τ_fcr=1,\n",
    "                           fcr=False, fcr_lag=False, zoom_freq=False):\n",
    "    \"\"\"interactive plot of frequency response. meant to be given to `ipywidgets.interact`\n",
    "    \"\"\"\n",
    "    # 1) Simulate\n",
    "    sim_params = dict(ΔP_load=ΔP_load, H=H, s=s, τ_fcr=τ_fcr,\n",
    "                      fcr=fcr, fcr_lag=fcr_lag)\n",
    "    t, f, P_fcr, f_lim = sim_freq_response(**sim_params)\n",
    "\n",
    "    # 2) Plot\n",
    "    f_min = 49 if zoom_freq else 0 # Hz\n",
    "    P_max = 0.14\n",
    "    plt.close('all')\n",
    "    fig, (ax1, ax2) = plot_freq_response(\n",
    "        t, f, P_fcr, f_lim,\n",
    "        **sim_params,\n",
    "        f_min=f_min, P_max=P_max)"
   ]
  },
  {
   "cell_type": "markdown",
   "id": "5fe2b766-7d6c-4c3c-b98b-f542368dcc82",
   "metadata": {},
   "source": [
    "---\n",
    "\n",
    "## Interactive experiment story\n",
    "\n",
    "*Intructions: run the cell below (\"Run\" button with the triangle icon)*\n",
    "\n",
    "### 1) Without frequency regulation\n",
    "The frequency transient simulation starts without primary reserve (`fcr` off), with a full scale for frequency (0 to 50 Hz with `zoom_freq` off).\n",
    "Initial frequency is at the nominal value 50 Hz.\n",
    "You can explore the effect on the frequency of:\n",
    "\n",
    "- intensity of power mismatch (excess of consumption `ΔP_load`), which can be negative in case of a excess of production\n",
    "- grid inertia (`H` is seconds)\n",
    "   \n",
    "Both affect the rate of change of the frequency (“RoCoF”, or *slope* of the frequency trajectory). If the frequency reaches 0, this is a **blackout**(*).\n",
    "And without frequency regulation, except if the power mismatch is strictly 0, it's only a matter of time becore crashing the grid (with blackout or over-frequency).\n",
    "\n",
    "### 2) With frequency regulation\n",
    "\n",
    "Then zoom closer to nominal frequency (`zoom_freq` → on) and **activate the primary frequency regulation** (`fcr` → on).\n",
    "Witness the **stabilization of the grid frequency**, but *not at its nominal value*. \n",
    "You can explore the effect of:\n",
    "\n",
    "- regulation inverse gain `s` (smaller means stronger regulation): affects the final frequency value, but not the initial rate of change (RoCoF)\n",
    "- grid inertia (`H` is seconds): affects the initial rate of change (RoCoF) as without FCR, but no effect of the final value\n",
    "- intensity of power mismatch (excess of consumption `ΔP_load`): affects both the final frequency value, and the initial RoCoF\n",
    "\n",
    "Before going on, set `H` to a realistic value of about 4 to 8 seconds and `s` to 5%.\n",
    "\n",
    "### 3) With imperfect frequency regulation (lag)\n",
    "\n",
    "Finally, to get a realistic frequency trajectory, we should account of the slowness of the devices (often: steam or gas turbines) which contribute to the frequency regulation. **Activate the regulation lag** (`fcr_lag` → on). Witness the **frequency oscillations** before stabilization. An important value to monitor is the frequency nadir, that is the smallest transient value. It should be kept above the threshold of the automatic devices which disconnect consumers in case of low frequency (see (*) below). You can explore the *opposing* effects of:\n",
    "\n",
    "- inertia time constant `H`: the larger, the less oscillations and thus the higher nadir\n",
    "- frequency regulation lag time constant `τ_fcr`: the larger (i.e. longer lag), the more oscillations and thus the lower nadir (→ risk of disconnecting some consumers)\n",
    "\n",
    "(*) About blackout: in real grids, emergency protection would disconnect loads before reaching 0 Hz to prevent the blackout of the core network, which can be long to recover (hours to days). However, this still means blackout for consumers."
   ]
  },
  {
   "cell_type": "code",
   "execution_count": 10,
   "id": "3dfe0287-8022-456f-916c-d58aad695579",
   "metadata": {},
   "outputs": [
    {
     "data": {
      "application/vnd.jupyter.widget-view+json": {
       "model_id": "2a19c36b8f824b5b902fd786e4610b76",
       "version_major": 2,
       "version_minor": 0
      },
      "text/plain": [
       "interactive(children=(FloatSlider(value=0.1, description='ΔP_load', max=0.2, min=-0.2, step=0.05), FloatSlider…"
      ]
     },
     "metadata": {},
     "output_type": "display_data"
    }
   ],
   "source": [
    "interact(freq_response_interact,\n",
    "    ΔP_load=(-0.2, 0.2, 0.05),\n",
    "    H=(1e-3, 8, 1),\n",
    "    s=(1e-4, 0.10, 0.01),\n",
    "    τ_fcr=(1e-3, 2, 0.5));"
   ]
  }
 ],
 "metadata": {
  "kernelspec": {
   "display_name": "Python 3 (ipykernel)",
   "language": "python",
   "name": "python3"
  },
  "language_info": {
   "codemirror_mode": {
    "name": "ipython",
    "version": 3
   },
   "file_extension": ".py",
   "mimetype": "text/x-python",
   "name": "python",
   "nbconvert_exporter": "python",
   "pygments_lexer": "ipython3",
   "version": "3.11.4"
  }
 },
 "nbformat": 4,
 "nbformat_minor": 5
}
