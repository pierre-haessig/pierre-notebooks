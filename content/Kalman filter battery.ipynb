{
 "cells": [
  {
   "cell_type": "markdown",
   "id": "4532c41f-3d18-4983-ae27-82b3f2d3c6b3",
   "metadata": {},
   "source": [
    "# Battery State of Charge estimation with Kalman filter\n",
    "\n",
    "This notebook explores the State of Charge (SoC) estimation of a battery using a state observer algorithm, the Kalman filter,\n",
    "or more precisely its nonlinear extension: the extended Kalman filter (EKF).\n",
    "\n",
    "The battery model is based on a resistive voltage drop in series with a open circuit voltage which depends on the SoC (see below).\n",
    "The SoC estimation uses both the current and voltage measurement (*but no OCV measurement*) along with a previous SoC estimate.\n",
    "\n",
    "The notebook provides three Python implementations of the Kalman filter:\n",
    "1. a step-by-step literate programming version of the filter, using a sequence of notebook cells, to implement one step of the filter\n",
    "2. a generic implementation (all the above steps wrapped in a single function)\n",
    "3. a compact implementation specialized for SoC estimation with baked-in battery model\n",
    "\n",
    "References are provided at the end. More explanations about the Kalman filter are at the start of the dedicated section.\n",
    "\n",
    "🔋 Pierre Haessig, September 2024 🪫"
   ]
  },
  {
   "cell_type": "code",
   "execution_count": 1,
   "id": "b4a77943-c5d1-4abf-92d5-e5bcf4e09ba2",
   "metadata": {},
   "outputs": [],
   "source": [
    "import numpy as np\n",
    "from numpy import sqrt\n",
    "from numpy.linalg import inv # matrix inversion"
   ]
  },
  {
   "cell_type": "markdown",
   "id": "3c952e77-9964-47d4-9022-e4a4cc4e1638",
   "metadata": {},
   "source": [
    "Shortcuts to create vectors and matrices of dimension 1 or (1,1)"
   ]
  },
  {
   "cell_type": "code",
   "execution_count": 2,
   "id": "3ec17062-dc8a-411e-b575-dd8cca6bed5b",
   "metadata": {},
   "outputs": [
    {
     "data": {
      "text/plain": [
       "array([[1.]])"
      ]
     },
     "execution_count": 2,
     "metadata": {},
     "output_type": "execute_result"
    }
   ],
   "source": [
    "v1 = lambda x: np.array([x])\n",
    "m11 = lambda x: np.array([[x]])\n",
    "I1 = m11(1.0) # Identity matrix of dim (1,1)\n",
    "I1"
   ]
  },
  {
   "cell_type": "markdown",
   "id": "f7fc952c-7255-4428-822c-39603c430dfa",
   "metadata": {},
   "source": [
    "## State space model of the battery\n",
    "\n",
    "State space obsevers like the Kalman filter use a so-called state space model where the system is described with two functions:\n",
    "\n",
    "- **state dynamics equation**: $f: (x_{k-1}, u_k) \\mapsto x_k$\n",
    "- **output equation**: $g: (x_k, u_k) \\mapsto y_k$, with its Jacobian with respect to the state\n",
    "\n",
    "where $x$, $u$ and $y$ are respectively the state, input and output vectors."
   ]
  },
  {
   "cell_type": "markdown",
   "id": "9687a827-ca63-497a-8844-bfe4ce9e0223",
   "metadata": {},
   "source": [
    "### Battery state dynamics equation\n",
    "\n",
    "- model state is the battery state of charge $SoC$ (state vector $x$ of dimension 1)\n",
    "- model input is the current $i$ (input vector $u$ of dimension 1)\n",
    "\n",
    "State equation is linear:\n",
    "\n",
    "$$SoC_k = SoC_{k-1} + \\frac{\\Delta t}{Q_{rated}} i_k$$\n",
    "\n",
    "where $Q_{rated}$ is the rated cell capacity in Ah (if $\\Delta t$ in hours).\n",
    "This is the Euler backward integration of $dSoC/dt = i(t)/Q_{rated}$ over a time step $\\Delta t$."
   ]
  },
  {
   "cell_type": "code",
   "execution_count": 3,
   "id": "c0dedc7a-bf22-4525-bbc0-b9b9bcda5a8b",
   "metadata": {},
   "outputs": [
    {
     "data": {
      "text/plain": [
       "array([0.7])"
      ]
     },
     "execution_count": 3,
     "metadata": {},
     "output_type": "execute_result"
    }
   ],
   "source": [
    "def state_dyn_batt(x, u, w=v1(0.), **params):\n",
    "    \"\"\"Battery state dynamics equation:\n",
    "    x(k) = f(x(k-1), u(k), w(k))\n",
    "\n",
    "    with:\n",
    "    - x = [SoC], *previous* state of charge in [0,1]\n",
    "    - u = [i], current in A (>0 when charging)\n",
    "    - w = state evolution noise (optional, default to 0)\n",
    "\n",
    "    params dict content:\n",
    "    - Δt : time step (e.g. in hours)\n",
    "    - Qrated: cell rated capacity, in Ah (if Δt in hours)\n",
    "    \"\"\"\n",
    "    Δt = params['Δt']\n",
    "    Qrated = params['Qrated']\n",
    "    SoC = x[0]\n",
    "    i = u[0]\n",
    "    SoC_next = SoC + i/Qrated*Δt\n",
    "    x_next = v1(SoC_next) + w\n",
    "    return x_next\n",
    "\n",
    "params_dyn = dict(Qrated=10, Δt=0.5)\n",
    "SoC = 0.5\n",
    "i = 4 # A → i*Δt = 2Ah = 20% SoC increase\n",
    "x = v1(SoC)\n",
    "u = v1(i)\n",
    "state_dyn_batt(x, u, **params_dyn)"
   ]
  },
  {
   "cell_type": "markdown",
   "id": "758a26fd-b097-4f99-89f7-70872fb9e209",
   "metadata": {},
   "source": [
    "Jacobian, needed because state dynamics may be nonlinear. Since in the above example it is in fact linear, the Jacobian is in fact a constant $1.0$"
   ]
  },
  {
   "cell_type": "code",
   "execution_count": 4,
   "id": "33ef88aa-2e82-4834-bc00-7db668d57d65",
   "metadata": {},
   "outputs": [
    {
     "data": {
      "text/plain": [
       "array([[1.]])"
      ]
     },
     "execution_count": 4,
     "metadata": {},
     "output_type": "execute_result"
    }
   ],
   "source": [
    "def state_jac_batt(x, u, **params):\n",
    "    \"\"\"Jacobian, with respect to state, of battery state dynamics equation:\n",
    "    F = ∂f/∂x at (x,u)\n",
    "      = ∂(SoC(k))/∂(SoC(k-1))\n",
    "    \"\"\"\n",
    "    F = m11(1.0) # ∂(SoC + i/Qrated*Δt)/∂SoC = 1.0\n",
    "    return F\n",
    "\n",
    "state_jac_batt(x, u, **params_dyn)"
   ]
  },
  {
   "cell_type": "markdown",
   "id": "52720752-3e4c-4b49-b337-9529be7f20b1",
   "metadata": {},
   "source": [
    "### Battery output equation\n",
    "\n",
    "Model output is the cell voltage $V=V_{oc}(SoC) + R.i$.\n",
    "- If the $V_{oc}(SoC)$ hasn't a constant slope, this is a nonlinear output equation."
   ]
  },
  {
   "cell_type": "markdown",
   "id": "8779910a-0219-4779-b15f-bc4ac8fd1ba3",
   "metadata": {},
   "source": [
    "#### Open circuit cell voltage model\n",
    "\n",
    "see e.g. OCV curve of Fig 1.a in [(QQ Yu et al., 2018) ](https://doi.org/10.1186/s10033-018-0268-8)"
   ]
  },
  {
   "cell_type": "code",
   "execution_count": 5,
   "id": "30852224-6f40-4311-b997-cf7be292fa2d",
   "metadata": {},
   "outputs": [
    {
     "data": {
      "text/plain": [
       "(3.9000000000000004, 0.6000000000000001)"
      ]
     },
     "execution_count": 5,
     "metadata": {},
     "output_type": "execute_result"
    }
   ],
   "source": [
    "def Voc(SoC, **params):\n",
    "    \"\"\"Open circuit cell voltage (OCV), function of SoC\n",
    "    linear model:\n",
    "    - Voc_empty at 0% SoC\n",
    "    - Voc_full at 100% SoC\n",
    "    with Voc_empty and Voc_full taken from the params dict\n",
    "    \"\"\"\n",
    "    Voc_empty = params['Voc_empty']\n",
    "    Voc_full = params['Voc_full']\n",
    "    V = Voc_empty*(1-SoC) + Voc_full*SoC\n",
    "    return V\n",
    "\n",
    "def Voc_jac(SoC, **params):\n",
    "    \"\"\"Jacobian (sensitivity) of OCV with respect to SoC\n",
    "    ∂Voc/∂SoC\n",
    "    \"\"\"\n",
    "    Voc_empty = params['Voc_empty']\n",
    "    Voc_full = params['Voc_full']\n",
    "    return (Voc_full - Voc_empty)/1.0\n",
    "\n",
    "params_Voc = dict(Voc_full=4.2, Voc_empty=3.6)\n",
    "SoC = 0.5\n",
    "Voc(SoC, **params_Voc), Voc_jac(SoC, **params_Voc)"
   ]
  },
  {
   "cell_type": "markdown",
   "id": "26b0d796-12c8-463d-a62a-df55040d7d88",
   "metadata": {},
   "source": [
    "#### Output equation"
   ]
  },
  {
   "cell_type": "code",
   "execution_count": 6,
   "id": "25aec820-f1cc-4d38-a5ed-98b77755f3ae",
   "metadata": {},
   "outputs": [
    {
     "data": {
      "text/plain": [
       "array([4.1])"
      ]
     },
     "execution_count": 6,
     "metadata": {},
     "output_type": "execute_result"
    }
   ],
   "source": [
    "def output_batt(x, u, v=v1(0.), **params):\n",
    "    \"\"\"Battery output equation\n",
    "    y(k) = g(x(k), u(k), v(k))\n",
    "\n",
    "    with:\n",
    "    - x = [SoC], *present* state of charge in [0,1]\n",
    "    - u = [i], current in A (>0 when charging)\n",
    "    - v = output measurement noise (optional, default to 0)\n",
    "\n",
    "    params dict content:\n",
    "    - Voc : Voc function of SoC (in V)\n",
    "    - R: cell series resistance (in Ω)\n",
    "    - any param needed by Voc\n",
    "    \"\"\"\n",
    "    Voc = params['Voc']\n",
    "    R = params['R']\n",
    "    SoC = x[0]\n",
    "    i = u[0]\n",
    "    vbatt = Voc(SoC, **params) + R*i\n",
    "    y = v1(vbatt) + v\n",
    "    return y\n",
    "\n",
    "params_out = dict(Voc=Voc, Voc_jac=Voc_jac, R=0.025) | params_Voc\n",
    "SoC = 0.5 # → 3.9 V OCV\n",
    "i = 8. # A → R*i = 0.8 V\n",
    "x = v1(SoC)\n",
    "u = v1(i)\n",
    "output_batt(x, u, **params_out) # 4.1 V"
   ]
  },
  {
   "cell_type": "markdown",
   "id": "a7ddcaf5-d883-4e7c-a8c4-46813492984a",
   "metadata": {},
   "source": [
    "Jacobian, needed because output equation may be nonlinear. Since in the above example the open circuit voltage is in fact linear (affine), the output Jacobian is a constant  $V_{full} - V_{empty}$"
   ]
  },
  {
   "cell_type": "code",
   "execution_count": 7,
   "id": "cf5d97b5-a845-4343-b5c7-59ba25bb6fac",
   "metadata": {},
   "outputs": [
    {
     "data": {
      "text/plain": [
       "array([[0.6]])"
      ]
     },
     "execution_count": 7,
     "metadata": {},
     "output_type": "execute_result"
    }
   ],
   "source": [
    "def output_jac_batt(x, u, **params):\n",
    "    \"\"\"Jacobian, with respect to state, of battery output equation:\n",
    "    H = ∂g/∂x at (x,u)\n",
    "      = ∂(V(k))/∂(SoC(k))\n",
    "    \"\"\"\n",
    "    Voc_jac = params['Voc_jac']\n",
    "    SoC = x[0]\n",
    "    H = m11(Voc_jac(SoC, **params))\n",
    "    return H\n",
    "output_jac_batt(x, u, **params_out) # V/SoC"
   ]
  },
  {
   "cell_type": "markdown",
   "id": "055ab2aa-1722-4bff-b902-c8f744c11fa8",
   "metadata": {},
   "source": [
    "grouping all model parameters in one dict"
   ]
  },
  {
   "cell_type": "code",
   "execution_count": 8,
   "id": "99a4a5ff-d313-4d95-9b6b-5a05c2b22ee7",
   "metadata": {},
   "outputs": [
    {
     "data": {
      "text/plain": [
       "{'Voc': <function __main__.Voc(SoC, **params)>,\n",
       " 'Voc_jac': <function __main__.Voc_jac(SoC, **params)>,\n",
       " 'R': 0.025,\n",
       " 'Voc_full': 4.2,\n",
       " 'Voc_empty': 3.6,\n",
       " 'Qrated': 10,\n",
       " 'Δt': 0.5}"
      ]
     },
     "execution_count": 8,
     "metadata": {},
     "output_type": "execute_result"
    }
   ],
   "source": [
    "params = params_out | params_dyn\n",
    "params"
   ]
  },
  {
   "cell_type": "markdown",
   "id": "9a41ae1b-e90d-4da9-99e9-44e5c928ad5d",
   "metadata": {},
   "source": [
    "## State observer based on Kalman filter\n",
    "\n",
    "The goal of a state observer is to estimate the present state $\\hat{x}_k$ based on:\n",
    "- previous state estimate $\\hat{x}_{k-1}$\n",
    "- present input $u_k$\n",
    "- present output measurement $y_k$\n",
    "\n",
    "Observer mapping:\n",
    "$ (x_{k-1}, u_k, y_k) \\mapsto \\hat{x}_k$\n",
    "\n",
    "It is a recursive computation (i.e. a signal filter) in the sense that it is iteratively applied at each sampling instant, using the latest state estimate $\\hat{x}_k$ to estimate the next one $\\hat{x}_{k+1}$...\n",
    "\n",
    "The state observer needs the following model data:\n",
    "- the state dynamics equation $f: (x_{k-1}, u_k) \\mapsto x_k$, with its Jacobian with respect to the state\n",
    "- the output equation $g: (x_k, u_k) \\mapsto y_k$, with its Jacobian with respect to the state\n",
    "\n",
    "For the particuliar case of the Kalman filter, extra inputs are needed,\n",
    "namely covariance matrices which provide estimates of the uncertainty about 3 variables:\n",
    "- $Cov\\_x_{k-1}$: covariance of previous state estimate $\\hat{x}_{k-1}$\n",
    "- $Cov\\_w_k$: covariance of state evolution noise $w_k$\n",
    "- $Cov\\_y_k$: covariance of present output measurement $y_k$ (output noise is often denoted $v_k$)\n",
    "- remark: zero noise on the input $u$ is assumed\n",
    "\n",
    "and with these extra inputs, the Kalman filter yields, in addition to the state estimation $\\hat{x}_k$, some extra outputs:\n",
    "- $Cov\\_x_k$: covariance of present state estimate $\\hat{x}_k$\n",
    "  - this extra output is important, because it needs to be fed to the observer at the next iteration, along with $\\hat{x}_k$\n",
    "- $\\hat{y}_k$: smoothed (denoised) estimate of the output measurement $y_k$\n",
    "\n",
    "The Kalman filter state estimation algorithm is often decomposed into two steps:\n",
    "1. **Predict** step: predict the next state using solely the knowledge of the previous state and the input, i.e. applying a noiseless state dynamics equation\n",
    "2. **Update (correct)** step: use the actual ouput measurement to “fine-tune” the first predicion. it uses the output prediction error as a feedback and ensures the convergence of the estimation\n",
    "\n",
    "(it can also be compactly written as in [Ch8 of (Åström and Murray, 2021)](https://fbswiki.org/wiki/index.php/Output_Feedback) textbook)\n",
    "\n",
    "For the battery SoC estimation:\n",
    "- Predict step corresponds to Current Counting, which is good for monitoring *relative* SoC changes, but giving no clue about the absolute SoC value.\n",
    "- Update step exploits the changes in the OCV with respect to the SoC to make the SoC estimation converge (this implies that if the OCV(SoC) is flat, the Update step makes no changes)."
   ]
  },
  {
   "cell_type": "markdown",
   "id": "d5ac460e-2416-47c5-80bb-089ae5826aac",
   "metadata": {},
   "source": [
    "### Predict step"
   ]
  },
  {
   "cell_type": "code",
   "execution_count": 9,
   "id": "ea462b39-6b5b-4e4d-b052-2f6b7bb363f2",
   "metadata": {},
   "outputs": [],
   "source": [
    "SoC = 0.5 # previous state\n",
    "i = 4 # A, present current\n",
    "v = 4.15 # V, present voltage measurement, higher than expected by 0.030 V\n",
    "\n",
    "state_dyn =  state_dyn_batt\n",
    "state_jac = state_jac_batt\n",
    "output = output_batt\n",
    "output_jac = output_jac_batt\n",
    "\n",
    "x = v1(SoC) # previous state\n",
    "u = v1(i) # present input\n",
    "y = v1(v) # present output measurement"
   ]
  },
  {
   "cell_type": "code",
   "execution_count": 10,
   "id": "6b1f8edf-d533-4cf0-bc0d-7f87fbd44f70",
   "metadata": {},
   "outputs": [
    {
     "name": "stdout",
     "output_type": "stream",
     "text": [
      "predicted SoC: 70.0%\n"
     ]
    },
    {
     "data": {
      "text/plain": [
       "array([0.7])"
      ]
     },
     "execution_count": 10,
     "metadata": {},
     "output_type": "execute_result"
    }
   ],
   "source": [
    "x_pred = state_dyn(x, u, **params)\n",
    "print(f'predicted SoC: {x_pred[0]:.1%}')\n",
    "x_pred"
   ]
  },
  {
   "cell_type": "markdown",
   "id": "034da45d-0bfe-4c58-96b5-6faebc14b035",
   "metadata": {},
   "source": [
    "Jacobian of state evoluation:"
   ]
  },
  {
   "cell_type": "code",
   "execution_count": 11,
   "id": "605833a8-ead6-46ec-8d42-29a795be455d",
   "metadata": {},
   "outputs": [],
   "source": [
    "F = state_jac(x, u, **params) # also named A in the linear case"
   ]
  },
  {
   "cell_type": "markdown",
   "id": "69bd0cf0-1c92-4fd7-a980-3ecffc5e1a00",
   "metadata": {},
   "source": [
    "Covariance of predicted  state:"
   ]
  },
  {
   "cell_type": "code",
   "execution_count": 12,
   "id": "e722df8e-e810-456a-85bb-db069c91e5de",
   "metadata": {},
   "outputs": [
    {
     "name": "stdout",
     "output_type": "stream",
     "text": [
      "predicted SoC std: 10.050%\n"
     ]
    },
    {
     "data": {
      "text/plain": [
       "array([[0.0101]])"
      ]
     },
     "execution_count": 12,
     "metadata": {},
     "output_type": "execute_result"
    }
   ],
   "source": [
    "Cov_x = m11(0.1 ** 2 ) # 10% SoC uncertainty\n",
    "Cov_w = m11(1e-2 ** 2) # 1% SoC noise at each time step\n",
    "\n",
    "\n",
    "Cov_xpred = F @ Cov_x @ F.T + Cov_w\n",
    "\n",
    "std_SoC_pred  = sqrt(Cov_xpred[0,0]) # standard deviation (std)\n",
    "print(f'predicted SoC std: {std_SoC_pred:.3%}')\n",
    "Cov_xpred"
   ]
  },
  {
   "cell_type": "markdown",
   "id": "f8af9e7d-8809-4102-b067-87349e3fbb64",
   "metadata": {},
   "source": [
    "### Update step"
   ]
  },
  {
   "cell_type": "code",
   "execution_count": 13,
   "id": "3bcc18ea-9f3a-4602-921a-9c29d4f71d6a",
   "metadata": {},
   "outputs": [
    {
     "name": "stdout",
     "output_type": "stream",
     "text": [
      "voltage (output):\n",
      "- predicted:   4.12 V\n",
      "- measured:    4.15 V\n",
      "- innovation: +0.03 V (meas - pred)\n",
      "\n"
     ]
    },
    {
     "data": {
      "text/plain": [
       "array([0.03])"
      ]
     },
     "execution_count": 13,
     "metadata": {},
     "output_type": "execute_result"
    }
   ],
   "source": [
    "y_pred = output(x_pred, u, **params)\n",
    "y_innov = y - y_pred\n",
    "print(f\"\"\"voltage (output):\n",
    "- predicted:   {y_pred[0]:.2f} V\n",
    "- measured:    {y[0]:.2f} V\n",
    "- innovation: {y_innov[0]:+.2f} V (meas - pred)\n",
    "\"\"\")\n",
    "y_innov"
   ]
  },
  {
   "cell_type": "markdown",
   "id": "97947aaa-a856-40ff-9fee-af441f295ec4",
   "metadata": {},
   "source": [
    "output Jacobian (slope of OCV(SoC) curve)"
   ]
  },
  {
   "cell_type": "code",
   "execution_count": 14,
   "id": "40ef3116-ba99-469a-aaad-cd65bc773711",
   "metadata": {},
   "outputs": [
    {
     "data": {
      "text/plain": [
       "array([[0.6]])"
      ]
     },
     "execution_count": 14,
     "metadata": {},
     "output_type": "execute_result"
    }
   ],
   "source": [
    "H = output_jac(x_pred, u, **params) \n",
    "H # V/SoC"
   ]
  },
  {
   "cell_type": "code",
   "execution_count": 15,
   "id": "b65f3984-555b-420a-b0b5-53e946e15a6d",
   "metadata": {},
   "outputs": [
    {
     "name": "stdout",
     "output_type": "stream",
     "text": [
      "innovation std: 0.06112 V\n",
      "(compared to    0.06030 V if measurement were noiseless)\n"
     ]
    },
    {
     "data": {
      "text/plain": [
       "array([[0.003736]])"
      ]
     },
     "execution_count": 15,
     "metadata": {},
     "output_type": "execute_result"
    }
   ],
   "source": [
    "std_Vmeas = 10e-3 # 10 mV voltage measurement noise\n",
    "Cov_y = m11(std_Vmeas ** 2) \n",
    "\n",
    "Cov_ypred = H @ Cov_xpred @ H.T\n",
    "Cov_yinnov = Cov_ypred + Cov_y\n",
    "print(f'innovation std: {sqrt(Cov_yinnov[0,0]):.5f} V')\n",
    "print(f'(compared to    {sqrt(Cov_ypred[0,0]):.5f} V if measurement were noiseless)')\n",
    "\n",
    "Cov_yinnov"
   ]
  },
  {
   "cell_type": "code",
   "execution_count": 16,
   "id": "51782899-c1e2-4842-a3d4-c87014ed317f",
   "metadata": {},
   "outputs": [
    {
     "data": {
      "text/plain": [
       "array([[267.66595289]])"
      ]
     },
     "execution_count": 16,
     "metadata": {},
     "output_type": "execute_result"
    }
   ],
   "source": [
    "Cov_yinnov_inv = inv(Cov_yinnov) # ⚠ Cov_yinnov needs to be invertible\n",
    "Cov_yinnov_inv"
   ]
  },
  {
   "cell_type": "markdown",
   "id": "36fdf46b-4e1b-41e3-8141-3d9369a0271c",
   "metadata": {},
   "source": [
    "Kalman gain (feedback gain of the measurement error)\n",
    "\n",
    "Remarks\n",
    "- when `H @ Cov_xpred @ H.T` is dominant compared to `Cov_y` (low measurement noise) in the computation of `Cov_yinnov`, then `L ~ 1/H` (in scalar case)\n",
    "- when output Jacobian $H=0$ (e.g. flat OCV(SoC) curve), then $L=0$ and the Update step makes nothing"
   ]
  },
  {
   "cell_type": "code",
   "execution_count": 17,
   "id": "d54cb00d-aeb9-4fc4-8535-2d9bc61eb7cf",
   "metadata": {},
   "outputs": [
    {
     "data": {
      "text/plain": [
       "(array([[1.62205567]]), array([[1.66666667]]))"
      ]
     },
     "execution_count": 17,
     "metadata": {},
     "output_type": "execute_result"
    }
   ],
   "source": [
    "L = Cov_xpred @ H.T @ Cov_yinnov_inv\n",
    "L, 1/H"
   ]
  },
  {
   "cell_type": "markdown",
   "id": "7491e95b-b805-428c-9a14-9b70bb225e65",
   "metadata": {},
   "source": [
    "Prediction correction: the innovation error, amplified by Kalman gain, is added to the first prediction"
   ]
  },
  {
   "cell_type": "code",
   "execution_count": 18,
   "id": "87b899a0-ab2f-44f8-996e-f2bcd9fceabd",
   "metadata": {},
   "outputs": [
    {
     "data": {
      "text/plain": [
       "array([0.04866167])"
      ]
     },
     "execution_count": 18,
     "metadata": {},
     "output_type": "execute_result"
    }
   ],
   "source": [
    "L@y_innov # SoC correction"
   ]
  },
  {
   "cell_type": "code",
   "execution_count": 19,
   "id": "f2a57796-e184-4d6c-b885-7cbbd23c0ae2",
   "metadata": {},
   "outputs": [
    {
     "name": "stdout",
     "output_type": "stream",
     "text": [
      "updated SoC estimate: 74.9% (compared to 70.0% prediction)\n"
     ]
    },
    {
     "data": {
      "text/plain": [
       "array([0.74866167])"
      ]
     },
     "execution_count": 19,
     "metadata": {},
     "output_type": "execute_result"
    }
   ],
   "source": [
    "x_next = x_pred + L@y_innov\n",
    "print(f'updated SoC estimate: {x_next[0]:.1%} (compared to {x_pred[0]:.1%} prediction)')\n",
    "\n",
    "x_next"
   ]
  },
  {
   "cell_type": "markdown",
   "id": "d35c8c58-4a26-4952-92ba-3fc85f2e88d7",
   "metadata": {},
   "source": [
    "Covariance of updated state estimation:"
   ]
  },
  {
   "cell_type": "code",
   "execution_count": 20,
   "id": "014f81b7-d2fb-4362-868d-4a81fb497aa1",
   "metadata": {},
   "outputs": [
    {
     "data": {
      "text/plain": [
       "array([[0.0267666]])"
      ]
     },
     "execution_count": 20,
     "metadata": {},
     "output_type": "execute_result"
    }
   ],
   "source": [
    "I1 - L@H # Covariance scaling matrix, which should be shrinking so that Cov_x converges over time"
   ]
  },
  {
   "cell_type": "code",
   "execution_count": 21,
   "id": "c8694a49-d37b-432f-9235-7e23be420b60",
   "metadata": {},
   "outputs": [
    {
     "name": "stdout",
     "output_type": "stream",
     "text": [
      "updated SoC std: 1.644% (compared to 10.050% for the predict step)\n"
     ]
    },
    {
     "data": {
      "text/plain": [
       "array([[0.00027034]])"
      ]
     },
     "execution_count": 21,
     "metadata": {},
     "output_type": "execute_result"
    }
   ],
   "source": [
    "Cov_xnext = (I1 - L@H)*Cov_xpred\n",
    "std_SoC_next  = sqrt(Cov_xnext[0,0]) # standard deviation (std)\n",
    "print(f'updated SoC std: {std_SoC_next:.3%} (compared to {std_SoC_pred:.3%} for the predict step)')\n",
    "Cov_xnext"
   ]
  },
  {
   "cell_type": "markdown",
   "id": "29721a34-23e8-49ad-b77e-187a1bae1e62",
   "metadata": {},
   "source": [
    "Updated measurement prediction and residual"
   ]
  },
  {
   "cell_type": "code",
   "execution_count": 22,
   "id": "00e6c94d-c493-49d1-8d96-21b7a6bb6a2d",
   "metadata": {},
   "outputs": [
    {
     "name": "stdout",
     "output_type": "stream",
     "text": [
      "voltage (output):\n",
      "- updated pred: 4.1492 V\n",
      "- measured:     4.1500 V (±0.0100 V)\n",
      "- residual:    +0.0008 V (meas - updated pred)\n",
      "\n"
     ]
    },
    {
     "data": {
      "text/plain": [
       "array([0.03])"
      ]
     },
     "execution_count": 22,
     "metadata": {},
     "output_type": "execute_result"
    }
   ],
   "source": [
    "y_upd = output_batt(x_next, u, **params)\n",
    "y_res = y - y_upd\n",
    "print(f\"\"\"voltage (output):\n",
    "- updated pred: {y_upd[0]:.4f} V\n",
    "- measured:     {y[0]:.4f} V (±{std_Vmeas:.4f} V)\n",
    "- residual:    {y_res[0]:+.4f} V (meas - updated pred)\n",
    "\"\"\")\n",
    "y_innov"
   ]
  },
  {
   "cell_type": "markdown",
   "id": "6b51e123-945a-49f6-84d9-33e56c5be2d4",
   "metadata": {},
   "source": [
    "### Wrapping everything in a function"
   ]
  },
  {
   "cell_type": "markdown",
   "id": "95a4db2b-2d80-420f-80b3-fec003589390",
   "metadata": {},
   "source": [
    "#### Generic Kalman filter implementation\n",
    "\n",
    "using generic control theory (x, u, y...) notation"
   ]
  },
  {
   "cell_type": "code",
   "execution_count": 23,
   "id": "91a43d36-f7b5-4be1-a207-5b1d0e7a2d93",
   "metadata": {},
   "outputs": [],
   "source": [
    "def observer_ekf(x, u, y, funs, Cov, **params):\n",
    "    \"\"\"State observer using the extended Kalman filter (EKF)\n",
    "    \n",
    "    Parameters:\n",
    "    - x: previous state estimate\n",
    "    - u: present input\n",
    "    - y: present output measurement\n",
    "    - funs: state space model dict of functions, with keys state_dyn, state_jac, output, output_jac\n",
    "    - Cov: covariance matrices dict, with keys x (state estimation), w (state evolution noise), y (measurement noise)\n",
    "\n",
    "    Returns:\n",
    "    - x_next: present state estimation\n",
    "    - Cov_xnext: present state covariance\n",
    "    - y_upd: smoothed (denoised) estimate of the output measurement\n",
    "    \"\"\"\n",
    "    # Extract data\n",
    "    Cov_x = Cov['x']\n",
    "    Cov_w = Cov['w']\n",
    "    Cov_y = Cov['y']\n",
    "    \n",
    "    # 1) Prediction step\n",
    "    x_pred = funs['state_dyn'](x, u, **params)\n",
    "    F = funs['state_jac'](x, u, **params)\n",
    "    Cov_xpred = F @ Cov_x @ F.T + Cov_w\n",
    "    \n",
    "    # 2) Update step\n",
    "    y_pred = funs['output'](x_pred, u, **params)\n",
    "    y_innov = y - y_pred\n",
    "    H = funs['output_jac'](x_pred, u, **params) \n",
    "    Cov_yinnov = H @ Cov_xpred @ H.T + Cov_y\n",
    "    Cov_yinnov_inv = inv(Cov_yinnov)\n",
    "    L = Cov_xpred @ H.T @ Cov_yinnov_inv\n",
    "    # updated state estimate:\n",
    "    x_next = x_pred + L@y_innov\n",
    "    Cov_xnext = (I1 - L@H)*Cov_xpred\n",
    "    y_upd = output_batt(x_next, u, **params)\n",
    "    \n",
    "    return x_next, Cov_xnext, y_upd"
   ]
  },
  {
   "cell_type": "markdown",
   "id": "4598d8ad-45eb-47d6-8c56-beb60bd753be",
   "metadata": {},
   "source": [
    "Test of the implementation"
   ]
  },
  {
   "cell_type": "code",
   "execution_count": 24,
   "id": "1e613e10-a239-424e-8588-6f9ae01adb8f",
   "metadata": {},
   "outputs": [
    {
     "name": "stdout",
     "output_type": "stream",
     "text": [
      "State estimation (single step):\n",
      "- Voltage measurement: 4.1400 V ±0.0100 V\n",
      "- Current counting i.Δt/Q: +20.0%\n",
      "- Prev SoC estimate: 50.0% ±10.0%\n",
      "- Next SoC estimate: 73.2% ± 1.6% → V=4.1395 V\n",
      "\n"
     ]
    }
   ],
   "source": [
    "SoC = 0.5 # previous state\n",
    "i = 4 # A, present current\n",
    "v = 4.14 # V, present voltage measurement, higher than expected by 0.030 V\n",
    "std_Vmeas = 10e-3 # 10 mV voltage measurement noise\n",
    "\n",
    "funs = dict(\n",
    "    state_dyn = state_dyn_batt,\n",
    "    state_jac = state_jac_batt,\n",
    "    output = output_batt,\n",
    "    output_jac = output_jac_batt\n",
    ")\n",
    "\n",
    "Cov = dict(\n",
    "    x = m11(0.1 ** 2 ), # 10% SoC uncertainty\n",
    "    w = m11(1e-2 ** 2), # 1% SoC noise at each time step\n",
    "    y = m11(std_Vmeas ** 2)\n",
    ")\n",
    "\n",
    "x = v1(SoC) # previous state\n",
    "u = v1(i) # present input\n",
    "y = v1(v) # present output measurement\n",
    "\n",
    "x_next, Cov_xnext, y_upd = observer_ekf(x, u, y, funs, Cov, **params)\n",
    "\n",
    "std_SoC_next  = sqrt(Cov_xnext[0,0]) # standard deviation (std)\n",
    "ΔSoC = i*params['Δt']/params['Qrated']\n",
    "\n",
    "print(f\"\"\"State estimation (single step):\n",
    "- Voltage measurement: {v:.4f} V ±{sqrt(Cov['y'][0,0]):.4f} V\n",
    "- Current counting i.Δt/Q: {ΔSoC:+.1%}\n",
    "- Prev SoC estimate: {x[0]:.1%} ±{sqrt(Cov['x'][0,0]):.1%}\n",
    "- Next SoC estimate: {x_next[0]:.1%} ±{std_SoC_next:5.1%} → V={y_upd[0]:.4f} V\n",
    "\"\"\")"
   ]
  },
  {
   "cell_type": "markdown",
   "id": "8c3e1737-7368-46e4-b4d4-e1a26a4ebb97",
   "metadata": {},
   "source": [
    "#### Compact implementation specialized for SoC estimation"
   ]
  },
  {
   "cell_type": "code",
   "execution_count": 25,
   "id": "3a52dc8d-c451-473b-89aa-5cc197a72784",
   "metadata": {},
   "outputs": [],
   "source": [
    "def SoC_ekf(SoC, i, v, Cov, **params):\n",
    "    \"\"\"Battery State of Charge estimation using the extended Kalman filter (EKF)\n",
    "\n",
    "    A specialized compact version of the Kalman filter for SoC estimation,\n",
    "    where the battery model, with one scalar state (the SoC) is baked-in,\n",
    "    except for the OCV function.\n",
    "    \n",
    "    Parameters:\n",
    "    - SoC: previous SoC estimate\n",
    "    - i: present current\n",
    "    - v: present voltage measurement\n",
    "    - Cov: dict of variance scalars, with keys SoC (state estimation), w (state evolution noise), v (measurement noise)\n",
    "\n",
    "    Returns:\n",
    "    - SoC_next: present state estimation\n",
    "    - Cov_SoCnext: present state covariance\n",
    "    - v_upd: smoothed (denoised) estimate of the voltage measurement\n",
    "    \"\"\"\n",
    "    # Extract data\n",
    "    Cov_SoC = Cov['SoC']\n",
    "    Cov_w = Cov['w']\n",
    "    Cov_v = Cov['v']\n",
    "    Δt = params['Δt']\n",
    "    Qrated = params['Qrated']\n",
    "    Voc = params['Voc']\n",
    "    R = params['R']\n",
    "    Voc_jac = params['Voc_jac']\n",
    "    \n",
    "    # 1) Prediction step\n",
    "    SoC_pred = SoC + i/Qrated*Δt # Jacobian F = 1.0\n",
    "    Cov_SoCpred = Cov_SoC + Cov_w\n",
    "    \n",
    "    # 2) Update step\n",
    "    v_pred = Voc(SoC_pred, **params) + R*i\n",
    "    v_innov = v - v_pred\n",
    "    H = Voc_jac(SoC_pred, **params)\n",
    "    Cov_vinnov = H * Cov_SoCpred * H + Cov_v\n",
    "    Cov_vinnov_inv = 1/Cov_vinnov\n",
    "    L = Cov_SoCpred * H * Cov_vinnov_inv\n",
    "    # updated state estimate:\n",
    "    SoC_next = SoC_pred + L*v_innov\n",
    "    Cov_SoCnext = (1 - L*H)*Cov_SoCpred\n",
    "    v_upd = Voc(SoC_next, **params) + R*i\n",
    "    \n",
    "    return SoC_next, Cov_SoCnext, v_upd"
   ]
  },
  {
   "cell_type": "markdown",
   "id": "9a04b414-99a5-45d9-89f9-ae57d0ff3c68",
   "metadata": {},
   "source": [
    "Test of the implementation"
   ]
  },
  {
   "cell_type": "code",
   "execution_count": 26,
   "id": "c65e72aa-4f4d-4389-92c5-627228a8c675",
   "metadata": {},
   "outputs": [
    {
     "name": "stdout",
     "output_type": "stream",
     "text": [
      "State estimation (single step):\n",
      "- Voltage measurement: 4.1400 V ±0.0100 V\n",
      "- Current counting i.Δt/Q: +20.0%\n",
      "- Prev SoC estimate: 50.0% ±10.0%\n",
      "- Next SoC estimate: 73.2% ± 1.6% → V=4.1395 V\n",
      "\n"
     ]
    }
   ],
   "source": [
    "SoC = 0.5 # previous state\n",
    "i = 4 # A, present current\n",
    "v = 4.14 # V, present voltage measurement, higher than expected by 0.030 V\n",
    "std_Vmeas = 10e-3 # 10 mV voltage measurement noise\n",
    "\n",
    "Cov = dict(\n",
    "    SoC = 0.1**2, # 10% SoC uncertainty\n",
    "    w = 1e-2**2, # 1% SoC noise at each time step\n",
    "    v = std_Vmeas**2\n",
    ")\n",
    "\n",
    "SoC_next, Cov_SoCnext, v_upd = SoC_ekf(SoC, i, v, Cov, **params)\n",
    "\n",
    "std_SoC_next  = sqrt(Cov_SoCnext) # standard deviation (std)\n",
    "ΔSoC = i*params['Δt']/params['Qrated']\n",
    "\n",
    "print(f\"\"\"State estimation (single step):\n",
    "- Voltage measurement: {v:.4f} V ±{sqrt(Cov['v']):.4f} V\n",
    "- Current counting i.Δt/Q: {ΔSoC:+.1%}\n",
    "- Prev SoC estimate: {SoC:.1%} ±{sqrt(Cov['SoC']):.1%}\n",
    "- Next SoC estimate: {SoC_next:.1%} ±{std_SoC_next:5.1%} → V={v_upd:.4f} V\n",
    "\"\"\")"
   ]
  },
  {
   "cell_type": "markdown",
   "id": "026dad38-aba8-43e7-aa2e-b54bb9181f3a",
   "metadata": {},
   "source": [
    "## Test the SoC estimation\n",
    "\n",
    "🚧 *test along charge and discharge trajectories: to be done* 🚧"
   ]
  },
  {
   "cell_type": "markdown",
   "id": "20bc9898-5933-44a3-94da-c77c4ef05308",
   "metadata": {},
   "source": [
    "## References\n",
    "\n",
    "\n",
    "### References on battery models\n",
    "\n",
    "QQ Yu, R Xiong, LY Wang and C Lin “A Comparative Study on Open Circuit Voltage Models for Lithium-ion Batteries”. *Chin. J. Mech. Eng.*, 2018. https://doi.org/10.1186/s10033-018-0268-8\n",
    "\n",
    "### References on state oberver and Kalman filter\n",
    "\n",
    "Wikipedia, “Kalman filter” https://en.wikipedia.org/wiki/Kalman_filter\n",
    "- two-step formulation is given in the linear case (with no effect of the input in the output equation)\n",
    "- for the nonlinear case, the extended Kalman filter (EKF) is quickly described, but split in a separate article https://en.wikipedia.org/wiki/Extended_Kalman_filter\n",
    "\n",
    "KJ Åström and RM Murray, “Chapter 8 - Output Feedback” in “Feedback Systems: An Introduction for Scientists and Engineers”, 2nd ed, 2021. https://fbswiki.org/wiki/index.php/Output_Feedback\n",
    "- useful for a general introduction on state estimation (for linear systems)\n",
    "- only the compact single step formulation is given\n",
    "\n",
    "### References on Kalman filter for battery state estimation\n",
    "\n",
    "Series of three articles by Plett (the model presented here is the “simple model” in the 2nd article), which also discusses initialization, parameter estimation...:\n",
    "\n",
    "GL Plett, “Extended Kalman filtering for battery management systems of LiPB-based HEV battery packs: Part 1. Background,” *Journal of Power Sources*, 2004. https://doi.org/10.1016/j.jpowsour.2004.02.031\n",
    "\n",
    "GL Plett “... Part 2. Modeling and identification” https://doi.org/10.1016/j.jpowsour.2004.02.032 \n",
    "\n",
    "GL Plett “... Part 3. State and parameter estimation” https://doi.org/10.1016/j.jpowsour.2004.02.033"
   ]
  }
 ],
 "metadata": {
  "kernelspec": {
   "display_name": "Python 3 (ipykernel)",
   "language": "python",
   "name": "python3"
  },
  "language_info": {
   "codemirror_mode": {
    "name": "ipython",
    "version": 3
   },
   "file_extension": ".py",
   "mimetype": "text/x-python",
   "name": "python",
   "nbconvert_exporter": "python",
   "pygments_lexer": "ipython3",
   "version": "3.11.9"
  }
 },
 "nbformat": 4,
 "nbformat_minor": 5
}
