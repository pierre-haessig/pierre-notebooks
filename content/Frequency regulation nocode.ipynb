{
 "cells": [
  {
   "cell_type": "markdown",
   "id": "ddec23ab-b263-4514-9daf-14331be4483a",
   "metadata": {},
   "source": [
    "# Frequency regulation — Simulating the swing equation and the effect of primary reserve (FCR)\n",
    "\n",
    "This notebook contains a **temporal simulation of grid frequency**, assuming a simple swing equation,\n",
    "at the time of **power imbalance** event (electric power consumption ≠ injection, e.g. when loosing one large generation unit).\n",
    "This triggers **primary frequency regulation** (also called FCR: Frequency Containment Reserve) to stabilize the grid.\n",
    "\n",
    "This model can show:\n",
    "- effect of the absence of primary frequency regulation → grid blackout (or over-frequency)\n",
    "- effect of main parameters: imbalance intensity, grid inertia, regulation gain\n",
    "- effect of imperfect regulation (lag in the regulation) → oscillations\n",
    "\n",
    "This is the “no code” notebook variant of where *formulas and simulation code are hidden* (focus only on the interactive simulation). → See \n",
    "[Frequency regulation.ipynb](Frequency%20regulation.ipynb) if you want to see how it works 🧑‍💻.\n",
    "\n",
    "Pierre Haessig, september 2023, CC-BY\n",
    "\n",
    "<a rel=\"license\" href=\"http://creativecommons.org/licenses/by/4.0/\"><img alt=\"Licence Creative Commons Attribution 4.0 International\" style=\"border-width:0\" src=\"https://i.creativecommons.org/l/by/4.0/80x15.png\" /></a>"
   ]
  },
  {
   "cell_type": "code",
   "execution_count": 1,
   "id": "ee1253d1-31c7-4dc7-8bc9-875e874bd616",
   "metadata": {},
   "outputs": [],
   "source": [
    "try: # Install ipywidgets package in JupyterLite, if run in JupyterLite\n",
    "    import piplite\n",
    "    await piplite.install(['ipywidgets'])\n",
    "except ImportError:\n",
    "    pass\n",
    "import numpy, scipy, matplotlib"
   ]
  },
  {
   "cell_type": "code",
   "execution_count": 2,
   "id": "64b7c762-bf42-44b6-b89e-6e3c91445fb9",
   "metadata": {},
   "outputs": [],
   "source": [
    "%run -i 'Frequency regulation setup.py'"
   ]
  },
  {
   "cell_type": "markdown",
   "id": "509a1a56-a5af-4562-bc33-f4d8f1bcd906",
   "metadata": {},
   "source": [
    "---\n",
    "\n",
    "## Interactive experiment\n",
    "\n",
    "*Intructions: run the cell below (\"Run\" button with the triangle icon ▶️). Then read instructions below the graph.*"
   ]
  },
  {
   "cell_type": "code",
   "execution_count": 3,
   "id": "8a90a059-25a0-4d61-9c6d-dd5765c7f6cb",
   "metadata": {},
   "outputs": [
    {
     "data": {
      "application/vnd.jupyter.widget-view+json": {
       "model_id": "3059871de10f4fa2966fa44cf7668209",
       "version_major": 2,
       "version_minor": 0
      },
      "text/plain": [
       "interactive(children=(FloatSlider(value=0.1, description='ΔP_load', max=0.2, min=-0.2, step=0.05), FloatSlider…"
      ]
     },
     "metadata": {},
     "output_type": "display_data"
    }
   ],
   "source": [
    "interact(freq_response_interact,\n",
    "    ΔP_load=(-0.2, 0.2, 0.05),\n",
    "    H=(1e-3, 8, 1),\n",
    "    s=(1e-4, 0.10, 0.01),\n",
    "    T_fcr=(1e-3, 2, 0.5),\n",
    "    T_ΔP=['permanent','4 s']);"
   ]
  },
  {
   "cell_type": "markdown",
   "id": "161a1169-6cd5-44d1-a7fb-340a45077f53",
   "metadata": {
    "jp-MarkdownHeadingCollapsed": true
   },
   "source": [
    "*Here is a possible wander with the interactive simulation*\n",
    "\n",
    "### 1) Without frequency regulation\n",
    "The frequency transient simulation starts without primary reserve (`fcr` off), with a full scale for frequency (0 to 50 Hz with `zoom_freq` off).\n",
    "Initial frequency is at the nominal value 50 Hz.\n",
    "You can explore the effect on the frequency of:\n",
    "\n",
    "- intensity of power mismatch (excess of consumption `ΔP_load`), which can be negative in case of a excess of production\n",
    "- grid inertia (`H` is seconds)\n",
    "   \n",
    "Both affect the rate of change of the frequency (“RoCoF”, or *slope* of the frequency trajectory). If the frequency reaches 0, this is a **blackout**(*).\n",
    "And without frequency regulation, except if the power mismatch is strictly 0, it's only a matter of time becore crashing the grid (with blackout or over-frequency).\n",
    "\n",
    "Optionnally, you can make power mismatch becomes after zero after a few seconds (`T_ΔP` → 4s). This stops the frequency change, but doesn’t make it come back to its nominal value. Make sure however to reset to the permanent mismatch (`T_ΔP` → permanent) before going on to the next section.\n",
    "\n",
    "### 2) With frequency regulation\n",
    "\n",
    "Then zoom closer to nominal frequency (`zoom_freq` → on) and **activate the primary frequency regulation** (`fcr` → on).\n",
    "Witness the **stabilization of the grid frequency**, but *not at its nominal value*. \n",
    "You can explore the effect of:\n",
    "\n",
    "- regulation inverse gain `s` (smaller means stronger regulation): affects the final frequency value, but not the initial rate of change (RoCoF)\n",
    "- grid inertia (`H` is seconds): affects the initial rate of change (RoCoF) as without FCR, but no effect of the final value\n",
    "- intensity of power mismatch (excess of consumption `ΔP_load`): affects both the final frequency value, and the initial RoCoF\n",
    "\n",
    "Before going on, set `H` to a realistic value of about 4 to 8 seconds and `s` to 5%.\n",
    "\n",
    "### 3) With imperfect frequency regulation (lag)\n",
    "\n",
    "Finally, to get a realistic frequency trajectory, we should account of the slowness of the devices (often: steam or gas turbines) which contribute to the frequency regulation. **Activate the regulation lag** (`fcr_lag` → on). Witness the **frequency oscillations** before stabilization. An important value to monitor is the frequency nadir, that is the smallest transient value. It should be kept above the threshold of the automatic devices which disconnect consumers in case of low frequency (see (*) below). You can explore the *opposing* effects of:\n",
    "\n",
    "- inertia time constant `H`: the larger, the less oscillations and thus the higher nadir\n",
    "- frequency regulation lag time constant `T_fcr`: the larger (i.e. longer lag), the more oscillations and thus the lower nadir (→ risk of disconnecting some consumers)\n",
    "\n",
    "(*) About blackout: in real grids, emergency protection would disconnect loads before reaching 0 Hz to prevent the blackout of the core network, which can be long to recover (hours to days). However, this still means blackout for consumers."
   ]
  }
 ],
 "metadata": {
  "kernelspec": {
   "display_name": "Python 3 (ipykernel)",
   "language": "python",
   "name": "python3"
  },
  "language_info": {
   "codemirror_mode": {
    "name": "ipython",
    "version": 3
   },
   "file_extension": ".py",
   "mimetype": "text/x-python",
   "name": "python",
   "nbconvert_exporter": "python",
   "pygments_lexer": "ipython3",
   "version": "3.11.4"
  }
 },
 "nbformat": 4,
 "nbformat_minor": 5
}
